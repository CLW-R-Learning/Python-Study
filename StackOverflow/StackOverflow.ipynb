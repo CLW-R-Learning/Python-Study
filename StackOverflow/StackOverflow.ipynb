{
 "cells": [
  {
   "cell_type": "code",
   "execution_count": 1,
   "metadata": {
    "collapsed": true
   },
   "outputs": [],
   "source": [
    "from __future__ import print_function\n",
    "import stackexchange"
   ]
  },
  {
   "cell_type": "code",
   "execution_count": 2,
   "metadata": {
    "collapsed": true
   },
   "outputs": [],
   "source": [
    "# API\n",
    "user_api_key = 'YOUR API HERE'"
   ]
  },
  {
   "cell_type": "code",
   "execution_count": 3,
   "metadata": {
    "collapsed": true
   },
   "outputs": [],
   "source": [
    "site = stackexchange.Site(stackexchange.StackOverflow,\n",
    "                          app_key=user_api_key,\n",
    "                          impose_throttling=True)\n",
    "site.be_inclusive()"
   ]
  },
  {
   "cell_type": "markdown",
   "metadata": {},
   "source": [
    "It will get the recent questions from here: http://stackoverflow.com/questions"
   ]
  },
  {
   "cell_type": "markdown",
   "metadata": {},
   "source": [
    "### Recent questions"
   ]
  },
  {
   "cell_type": "code",
   "execution_count": 4,
   "metadata": {
    "collapsed": false
   },
   "outputs": [
    {
     "name": "stdout",
     "output_type": "stream",
     "text": [
      "Help on method recent_questions in module stackexchange:\n",
      "\n",
      "recent_questions(self, **kw) method of stackexchange.Site instance\n",
      "    Returns the set of the most recent questions on the site, by last activity.\n",
      "\n"
     ]
    }
   ],
   "source": [
    "help(site.recent_questions)"
   ]
  },
  {
   "cell_type": "code",
   "execution_count": 5,
   "metadata": {
    "collapsed": true
   },
   "outputs": [],
   "source": [
    "# Only problems with python tag\n",
    "questions = site.recent_questions(tagged=['python'], pagesize=10, body=True)"
   ]
  },
  {
   "cell_type": "code",
   "execution_count": 6,
   "metadata": {
    "collapsed": false
   },
   "outputs": [
    {
     "name": "stdout",
     "output_type": "stream",
     "text": [
      "\r",
      " #  vote ans view\n",
      " 1   0    0    4 \tpython plotting with pandas\n",
      " 2  -1    0   18 \tExecute curl command within Python\n",
      " 3  16    0  15314 \tHow to inherit and extend a list object in Python?\n",
      " 4   0    0    2 \tHow to retrieve column values by column name in python whit cx_Oracle\n",
      " 5   0    0   15 \tGetting n smallest in row in a panda dataframe\n",
      " 6   0    0    3 \tpython maximum recursion depth exceeded (using py2exe)\n",
      " 7   1    0    9 \tMatching a string which is stored in a variable for mongodb query\n",
      " 8   0    0    7 \tFormatting Django request cookies\n",
      " 9   0    0    2 \tepydoc isn&#39;t generating any graphs\n",
      "10   0    0   59 \thow to stop a neural network from predicting all zeros in imbalanced classes\n"
     ]
    }
   ],
   "source": [
    "print('\\r #  vote ans view')\n",
    "cur = 1\n",
    "for question in questions[:10]:\n",
    "    print('%2d %3d  %3d  %3d \\t%s' % (cur, question.score, len(question.answers), question.view_count, question.title))\n",
    "    cur += 1"
   ]
  },
  {
   "cell_type": "markdown",
   "metadata": {},
   "source": [
    "### Get question by their id"
   ]
  },
  {
   "cell_type": "code",
   "execution_count": 7,
   "metadata": {
    "collapsed": false
   },
   "outputs": [
    {
     "name": "stdout",
     "output_type": "stream",
     "text": [
      "Help on method question in module stackexchange:\n",
      "\n",
      "question(self, nid, **kw) method of stackexchange.Site instance\n",
      "    Retrieves an object representing a question with the ID `nid`. Note that an answer ID can not be specified -\n",
      "    unlike on the actual site, you will receive an error rather than a redirect to the actual question.\n",
      "\n"
     ]
    }
   ],
   "source": [
    "help(site.question)"
   ]
  },
  {
   "cell_type": "code",
   "execution_count": 8,
   "metadata": {
    "collapsed": false
   },
   "outputs": [
    {
     "data": {
      "text/plain": [
       "[u'c#', u'winforms', u'type-conversion', u'decimal', u'opacity']"
      ]
     },
     "execution_count": 8,
     "metadata": {},
     "output_type": "execute_result"
    }
   ],
   "source": [
    "# Question No.4\n",
    "question_4 = site.question(4, body=True)\n",
    "question_4.tags"
   ]
  },
  {
   "cell_type": "code",
   "execution_count": 9,
   "metadata": {
    "collapsed": false
   },
   "outputs": [
    {
     "name": "stdout",
     "output_type": "stream",
     "text": [
      "['answers', 'answers_url', 'body', 'comments', 'creation_date', 'fetch', 'fetch_callback', 'id', 'json', 'json_ob', 'linked', 'owner', 'owner_id', 'partial', 'related', 'revisions', 'score', 'site', 'tags', 'timeline', 'title', 'transfer', 'url', 'view_count']\n"
     ]
    }
   ],
   "source": [
    "# Attributes in question 4\n",
    "print([a for a in dir(question_4) if not a.startswith('_')])"
   ]
  },
  {
   "cell_type": "code",
   "execution_count": 10,
   "metadata": {
    "collapsed": false
   },
   "outputs": [
    {
     "data": {
      "text/plain": [
       "u\"<p>I want to use a track-bar to change a form's opacity.</p>\\n\\n<p>This is my code:</p>\\n\\n<pre><code>decimal trans = trackBar1.Value / 5000;\\nthis.Opacity = trans;\\n</code></pre>\\n\\n<p>When I try to build it, I get this error:</p>\\n\\n<blockquote>\\n  <p>Cannot implicitly convert type 'decimal' to 'double'.</p>\\n</blockquote>\\n\\n<p>I tried making <code>trans</code> a <code>double</code>, but then the control doesn't work. This code has worked fine for me in VB.NET in the past. </p>\\n\""
      ]
     },
     "execution_count": 10,
     "metadata": {},
     "output_type": "execute_result"
    }
   ],
   "source": [
    "question_4.body"
   ]
  },
  {
   "cell_type": "code",
   "execution_count": 11,
   "metadata": {
    "collapsed": false
   },
   "outputs": [
    {
     "data": {
      "text/plain": [
       "'http://stackoverflow.com/questions/4'"
      ]
     },
     "execution_count": 11,
     "metadata": {},
     "output_type": "execute_result"
    }
   ],
   "source": [
    "question_4.url"
   ]
  },
  {
   "cell_type": "code",
   "execution_count": 12,
   "metadata": {
    "collapsed": false
   },
   "outputs": [
    {
     "name": "stdout",
     "output_type": "stream",
     "text": [
      "When setting a form's opacity should I use a decimal or double?\n"
     ]
    }
   ],
   "source": [
    "print(question_4.title)"
   ]
  },
  {
   "cell_type": "code",
   "execution_count": 13,
   "metadata": {
    "collapsed": false
   },
   "outputs": [
    {
     "name": "stdout",
     "output_type": "stream",
     "text": [
      "<p>I want to use a track-bar to change a form's opacity.</p>\n",
      "\n",
      "<p>This is my code:</p>\n",
      "\n",
      "<pre><code>decimal trans = trackBar1.Value / 5000;\n",
      "this.Opacity = trans;\n",
      "</code></pre>\n",
      "\n",
      "<p>When I try to build it, I get this error:</p>\n",
      "\n",
      "<blockquote>\n",
      "  <p>Cannot implicitly convert type 'decimal' to 'double'.</p>\n",
      "</blockquote>\n",
      "\n",
      "<p>I tried making <code>trans</code> a <code>double</code>, but then the control doesn't work. This code has worked fine for me in VB.NET in the past. </p>\n",
      "\n"
     ]
    }
   ],
   "source": [
    "# Probability need to clean\n",
    "print(question_4.body)"
   ]
  },
  {
   "cell_type": "code",
   "execution_count": 14,
   "metadata": {
    "collapsed": false
   },
   "outputs": [
    {
     "data": {
      "text/plain": [
       "[u'c#', u'winforms', u'type-conversion', u'decimal', u'opacity']"
      ]
     },
     "execution_count": 14,
     "metadata": {},
     "output_type": "execute_result"
    }
   ],
   "source": [
    "question_4.tags"
   ]
  },
  {
   "cell_type": "code",
   "execution_count": 15,
   "metadata": {
    "collapsed": false
   },
   "outputs": [
    {
     "name": "stdout",
     "output_type": "stream",
     "text": [
      "['accepted', 'body', 'comments', 'creation_date', 'fetch', 'fetch_callback', 'id', 'is_accepted', 'json', 'json_ob', 'last_activity_date', 'last_edit_date', 'owner', 'owner_id', 'owner_info', 'partial', 'question', 'question_id', 'revisions', 'score', 'site', 'transfer', 'url']\n"
     ]
    }
   ],
   "source": [
    "# Answers\n",
    "question_4.answers\n",
    "\n",
    "# pull out the first answer\n",
    "answer = question_4.answers[0]\n",
    "\n",
    "# List all the attributes answer have\n",
    "print([a for a in dir(answer) if not a.startswith('_')])"
   ]
  },
  {
   "cell_type": "code",
   "execution_count": 16,
   "metadata": {
    "collapsed": false
   },
   "outputs": [
    {
     "name": "stdout",
     "output_type": "stream",
     "text": [
      "<p>An explicit cast to double isn't necessary.</p>\n",
      "\n",
      "<pre><code>double trans = (double)trackBar1.Value / 5000.0;\n",
      "</code></pre>\n",
      "\n",
      "<p>Identifying the constant as <code>5000.0</code> (or as <code>5000d</code>) is sufficient:</p>\n",
      "\n",
      "<pre><code>double trans = trackBar1.Value / 5000.0;\n",
      "double trans = trackBar1.Value / 5000d;\n",
      "</code></pre>\n",
      "\n"
     ]
    }
   ],
   "source": [
    "print(answer.body)"
   ]
  },
  {
   "cell_type": "code",
   "execution_count": 17,
   "metadata": {
    "collapsed": false
   },
   "outputs": [
    {
     "data": {
      "text/plain": [
       "4"
      ]
     },
     "execution_count": 17,
     "metadata": {},
     "output_type": "execute_result"
    }
   ],
   "source": [
    "answer.question_id"
   ]
  },
  {
   "cell_type": "markdown",
   "metadata": {},
   "source": [
    "* [Py-StackExchange FAQ](https://github.com/lucjon/Py-StackExchange/wiki/FAQ)"
   ]
  }
 ],
 "metadata": {
  "kernelspec": {
   "display_name": "Python 2",
   "language": "python",
   "name": "python2"
  },
  "language_info": {
   "codemirror_mode": {
    "name": "ipython",
    "version": 2
   },
   "file_extension": ".py",
   "mimetype": "text/x-python",
   "name": "python",
   "nbconvert_exporter": "python",
   "pygments_lexer": "ipython2",
   "version": "2.7.11"
  }
 },
 "nbformat": 4,
 "nbformat_minor": 0
}
