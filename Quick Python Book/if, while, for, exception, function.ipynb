{
 "cells": [
  {
   "cell_type": "markdown",
   "metadata": {
    "collapsed": true
   },
   "source": [
    "# Boolean expressions\n",
    "\n",
    "Python take the following values as False: False, 0, None, \\[ \\](empty list), \" \"(empty string).    \n",
    "You can do the operations for comparsion: >, >=, <, <=, ==, !=, is, is not, in, not in."
   ]
  },
  {
   "cell_type": "markdown",
   "metadata": {},
   "source": [
    "# if-elif-else statement"
   ]
  },
  {
   "cell_type": "code",
   "execution_count": 20,
   "metadata": {
    "collapsed": false
   },
   "outputs": [
    {
     "name": "stdout",
     "output_type": "stream",
     "text": [
      "5 0 10\n"
     ]
    }
   ],
   "source": [
    "x = 5\n",
    "if x < 5:\n",
    "    y = -1\n",
    "    z = 5\n",
    "elif x > 5:\n",
    "    y = 1\n",
    "    z = 11\n",
    "else:\n",
    "    y = 0\n",
    "    z = 10\n",
    "    \n",
    "print(x, y, z)"
   ]
  },
  {
   "cell_type": "markdown",
   "metadata": {},
   "source": [
    "Like the if else in R, the elif and else are optional. You can add many elif in the statement. "
   ]
  },
  {
   "cell_type": "markdown",
   "metadata": {},
   "source": [
    "# While"
   ]
  },
  {
   "cell_type": "code",
   "execution_count": 21,
   "metadata": {
    "collapsed": false
   },
   "outputs": [
    {
     "name": "stdout",
     "output_type": "stream",
     "text": [
      "60 40\n"
     ]
    }
   ],
   "source": [
    "# Short notation\n",
    "u, v, x, y = 0, 0, 100, 30\n",
    "while x > y:\n",
    "    u = u + y\n",
    "    x = x - y\n",
    "    if x < y + 2:\n",
    "        v = v + x\n",
    "        x = 0\n",
    "    else:\n",
    "        v = v + y + 2\n",
    "        x = x - y - 2\n",
    "        \n",
    "print(u, v)"
   ]
  },
  {
   "cell_type": "markdown",
   "metadata": {},
   "source": [
    "* Break"
   ]
  },
  {
   "cell_type": "code",
   "execution_count": 22,
   "metadata": {
    "collapsed": false
   },
   "outputs": [
    {
     "name": "stdout",
     "output_type": "stream",
     "text": [
      "5\n",
      "4\n"
     ]
    }
   ],
   "source": [
    "x = 5\n",
    "while x > 0:\n",
    "    if x != 3:\n",
    "        print(x)\n",
    "    else:\n",
    "        break\n",
    "    x = x - 1"
   ]
  },
  {
   "cell_type": "code",
   "execution_count": 23,
   "metadata": {
    "collapsed": false
   },
   "outputs": [
    {
     "name": "stdout",
     "output_type": "stream",
     "text": [
      "5\n",
      "4\n",
      "Three is here!\n",
      "2\n",
      "1\n"
     ]
    }
   ],
   "source": [
    "x = 5 \n",
    "while x > 0:\n",
    "    if x == 3:\n",
    "        x = x - 1\n",
    "        print(\"Three is here!\")\n",
    "    else:\n",
    "        print(x)\n",
    "        x = x - 1"
   ]
  },
  {
   "cell_type": "markdown",
   "metadata": {
    "collapsed": true
   },
   "source": [
    "# for"
   ]
  },
  {
   "cell_type": "markdown",
   "metadata": {},
   "source": [
    "* Continue (Like next in R)"
   ]
  },
  {
   "cell_type": "code",
   "execution_count": 24,
   "metadata": {
    "collapsed": false
   },
   "outputs": [
    {
     "name": "stdout",
     "output_type": "stream",
     "text": [
      "1\n",
      "2\n",
      "5\n",
      "6\n"
     ]
    }
   ],
   "source": [
    "item_list = [1, 2, \"Hi\", \"Hello World\", 5, 6, 15.5]\n",
    "for x in item_list:\n",
    "    if not isinstance(x, int):\n",
    "        continue\n",
    "    else:\n",
    "        print(x)"
   ]
  },
  {
   "cell_type": "markdown",
   "metadata": {},
   "source": [
    "# Function"
   ]
  },
  {
   "cell_type": "code",
   "execution_count": 25,
   "metadata": {
    "collapsed": true
   },
   "outputs": [],
   "source": [
    "import numpy as np"
   ]
  },
  {
   "cell_type": "markdown",
   "metadata": {},
   "source": [
    "Prime Number"
   ]
  },
  {
   "cell_type": "code",
   "execution_count": 26,
   "metadata": {
    "collapsed": true
   },
   "outputs": [],
   "source": [
    "# Function to check whether the number is prime\n",
    "def prime_n(x):\n",
    "    return sum(x % (np.arange(x) + 1) == 0) == 2"
   ]
  },
  {
   "cell_type": "code",
   "execution_count": 27,
   "metadata": {
    "collapsed": false
   },
   "outputs": [
    {
     "data": {
      "text/plain": [
       "False"
      ]
     },
     "execution_count": 27,
     "metadata": {},
     "output_type": "execute_result"
    }
   ],
   "source": [
    "prime_n(1)"
   ]
  },
  {
   "cell_type": "code",
   "execution_count": 28,
   "metadata": {
    "collapsed": false
   },
   "outputs": [
    {
     "data": {
      "text/plain": [
       "True"
      ]
     },
     "execution_count": 28,
     "metadata": {},
     "output_type": "execute_result"
    }
   ],
   "source": [
    "prime_n(2)"
   ]
  },
  {
   "cell_type": "code",
   "execution_count": 29,
   "metadata": {
    "collapsed": false
   },
   "outputs": [
    {
     "data": {
      "text/plain": [
       "True"
      ]
     },
     "execution_count": 29,
     "metadata": {},
     "output_type": "execute_result"
    }
   ],
   "source": [
    "prime_n(11)"
   ]
  },
  {
   "cell_type": "markdown",
   "metadata": {},
   "source": [
    "table function in R"
   ]
  },
  {
   "cell_type": "code",
   "execution_count": 30,
   "metadata": {
    "collapsed": false
   },
   "outputs": [],
   "source": [
    "# table\n",
    "def table(a_list):\n",
    "    counter = {}\n",
    "    for value in a_list:\n",
    "        add_occurrence(value, counter)\n",
    "        \n",
    "    return counter\n",
    "\n",
    "# count the times of occurrence\n",
    "def add_occurrence(value, counter):\n",
    "    # add in code here\n",
    "    if value in counter:\n",
    "        counter[value] += 1\n",
    "    else:\n",
    "        counter[value] = 1"
   ]
  },
  {
   "cell_type": "code",
   "execution_count": 31,
   "metadata": {
    "collapsed": false
   },
   "outputs": [
    {
     "data": {
      "text/plain": [
       "{'a': 3, 'b': 2, 'c': 1}"
      ]
     },
     "execution_count": 31,
     "metadata": {},
     "output_type": "execute_result"
    }
   ],
   "source": [
    "table([\"a\", \"a\", \"b\", \"c\", \"a\", \"b\"])"
   ]
  },
  {
   "cell_type": "code",
   "execution_count": 32,
   "metadata": {
    "collapsed": false
   },
   "outputs": [
    {
     "data": {
      "text/plain": [
       "{1: 2, 2: 1, 3: 2, 4: 1, 5: 1}"
      ]
     },
     "execution_count": 32,
     "metadata": {},
     "output_type": "execute_result"
    }
   ],
   "source": [
    "table([1, 2, 3, 1, 3, 5, 4])"
   ]
  }
 ],
 "metadata": {
  "kernelspec": {
   "display_name": "Python 3",
   "language": "python",
   "name": "python3"
  },
  "language_info": {
   "codemirror_mode": {
    "name": "ipython",
    "version": 3
   },
   "file_extension": ".py",
   "mimetype": "text/x-python",
   "name": "python",
   "nbconvert_exporter": "python",
   "pygments_lexer": "ipython3",
   "version": "3.4.3"
  }
 },
 "nbformat": 4,
 "nbformat_minor": 0
}
