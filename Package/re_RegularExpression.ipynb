{
 "cells": [
  {
   "cell_type": "markdown",
   "metadata": {},
   "source": [
    "# Regular Expression\n",
    "Regular expression is a way to do text pattern searching. It uses some metatcharacters to represent the pattern of strings. It allows you to find the pattern without doing it by hardcoding.   \n",
    "We will use package `re` for regular expression in Python."
   ]
  },
  {
   "cell_type": "code",
   "execution_count": 1,
   "metadata": {
    "collapsed": false
   },
   "outputs": [
    {
     "data": {
      "text/plain": [
       "re.compile(r'Hello', re.UNICODE)"
      ]
     },
     "execution_count": 1,
     "metadata": {},
     "output_type": "execute_result"
    }
   ],
   "source": [
    "import re\n",
    "\n",
    "mystring = \"Hello World!\"\n",
    "# Compilte regular expression\n",
    "regexp = re.compile(\"Hello\")\n",
    "regexp"
   ]
  },
  {
   "cell_type": "code",
   "execution_count": 2,
   "metadata": {
    "collapsed": false
   },
   "outputs": [
    {
     "data": {
      "text/plain": [
       "<_sre.SRE_Match object; span=(0, 5), match='Hello'>"
      ]
     },
     "execution_count": 2,
     "metadata": {},
     "output_type": "execute_result"
    }
   ],
   "source": [
    "# You can use tab to check the method for this object\n",
    "s = regexp.search(mystring)\n",
    "s"
   ]
  },
  {
   "cell_type": "code",
   "execution_count": 3,
   "metadata": {
    "collapsed": false
   },
   "outputs": [
    {
     "data": {
      "text/plain": [
       "[0, 5]"
      ]
     },
     "execution_count": 3,
     "metadata": {},
     "output_type": "execute_result"
    }
   ],
   "source": [
    "# Start and End\n",
    "[s.start(), s.end()]"
   ]
  },
  {
   "cell_type": "code",
   "execution_count": 4,
   "metadata": {
    "collapsed": false
   },
   "outputs": [
    {
     "data": {
      "text/plain": [
       "'Hello'"
      ]
     },
     "execution_count": 4,
     "metadata": {},
     "output_type": "execute_result"
    }
   ],
   "source": [
    "# Get the word\n",
    "mystring[s.start():s.end()]"
   ]
  },
  {
   "cell_type": "code",
   "execution_count": 5,
   "metadata": {
    "collapsed": false
   },
   "outputs": [
    {
     "data": {
      "text/plain": [
       "'hello world!'"
      ]
     },
     "execution_count": 5,
     "metadata": {},
     "output_type": "execute_result"
    }
   ],
   "source": [
    "mystringl = mystring.lower()\n",
    "mystringl"
   ]
  },
  {
   "cell_type": "markdown",
   "metadata": {
    "collapsed": true
   },
   "source": [
    "If we want to search the lower case hello, there are several way to write it.\n",
    "* `|` means or in regular expression.\n",
    "* `()` group all the word inside the parentheses.\n",
    "* `[]` match any word inside the bracket."
   ]
  },
  {
   "cell_type": "code",
   "execution_count": 6,
   "metadata": {
    "collapsed": false
   },
   "outputs": [
    {
     "data": {
      "text/plain": [
       "['hello', 'hello', 'hello']"
      ]
     },
     "execution_count": 6,
     "metadata": {},
     "output_type": "execute_result"
    }
   ],
   "source": [
    "regexp1 = re.compile('Hello|hello')\n",
    "regexp2 = re.compile('(H|h)ello')\n",
    "regexp3 = re.compile('[hH]ello')\n",
    "\n",
    "s1 = regexp1.search(mystringl)\n",
    "s2 = regexp2.search(mystringl)\n",
    "s3 = regexp3.search(mystringl)\n",
    "# They are the same\n",
    "[mystringl[s1.start():s1.end()], mystringl[s2.start():s2.end()], mystringl[s3.start():s3.end()]]"
   ]
  },
  {
   "cell_type": "markdown",
   "metadata": {},
   "source": [
    "Special character | meaning\n",
    "--- | ---\n",
    "^ | begin\n",
    ". | wild card\n",
    "* | match many times\n",
    "$ | end\n",
    "+ | one or more times"
   ]
  },
  {
   "cell_type": "code",
   "execution_count": 7,
   "metadata": {
    "collapsed": false
   },
   "outputs": [
    {
     "data": {
      "text/plain": [
       "['123']"
      ]
     },
     "execution_count": 7,
     "metadata": {},
     "output_type": "execute_result"
    }
   ],
   "source": [
    "s = \"I have $123 in my pocket!\"\n",
    "\n",
    "# Extract digit\n",
    "re.findall('[0-9]+', s)"
   ]
  },
  {
   "cell_type": "code",
   "execution_count": 8,
   "metadata": {
    "collapsed": false
   },
   "outputs": [
    {
     "data": {
      "text/plain": [
       "['h', 'a', 'v', 'e', 'i', 'n', 'm', 'y', 'p', 'o', 'c', 'k', 'e', 't']"
      ]
     },
     "execution_count": 8,
     "metadata": {},
     "output_type": "execute_result"
    }
   ],
   "source": [
    "# All lower letters in the string\n",
    "re.findall('[a-z]', s)"
   ]
  },
  {
   "cell_type": "markdown",
   "metadata": {},
   "source": [
    "### Raw String\n",
    "Raw string is a different way to define string in Python. When you use the regular expression, sometimes you may encounter the problem about raw string. It will mess up the meaning of those special character like tab `\\t` and new line `\\n`. I cannot really find a good example to illustrate it, so I present the difference of raw string by the following example."
   ]
  },
  {
   "cell_type": "code",
   "execution_count": 9,
   "metadata": {
    "collapsed": false
   },
   "outputs": [
    {
     "name": "stdout",
     "output_type": "stream",
     "text": [
      "\\ten\n"
     ]
    }
   ],
   "source": [
    "print(r'\\ten')"
   ]
  },
  {
   "cell_type": "code",
   "execution_count": 10,
   "metadata": {
    "collapsed": false
   },
   "outputs": [
    {
     "name": "stdout",
     "output_type": "stream",
     "text": [
      "\ten\n"
     ]
    }
   ],
   "source": [
    "print('\\ten')"
   ]
  },
  {
   "cell_type": "markdown",
   "metadata": {},
   "source": [
    "### Greedy Search\n",
    "When there are multiple string match the pattern you give, the function will give you the longest one. If you just want the first string matching your pattern, use `?` to avoid greedy search. See the following example:"
   ]
  },
  {
   "cell_type": "code",
   "execution_count": 11,
   "metadata": {
    "collapsed": false
   },
   "outputs": [
    {
     "data": {
      "text/plain": [
       "['First: Second:']"
      ]
     },
     "execution_count": 11,
     "metadata": {},
     "output_type": "execute_result"
    }
   ],
   "source": [
    "s = \"First: Second: Third\"\n",
    "# It will give your the longest matched string\n",
    "re.findall('^F.+:', s)"
   ]
  },
  {
   "cell_type": "code",
   "execution_count": 12,
   "metadata": {
    "collapsed": false
   },
   "outputs": [
    {
     "data": {
      "text/plain": [
       "['First:']"
      ]
     },
     "execution_count": 12,
     "metadata": {},
     "output_type": "execute_result"
    }
   ],
   "source": [
    "# Use ? to tell the function do not do greedy search.\n",
    "re.findall('^F.+?:', s)"
   ]
  },
  {
   "cell_type": "markdown",
   "metadata": {},
   "source": [
    "### Substitute\n"
   ]
  },
  {
   "cell_type": "code",
   "execution_count": 13,
   "metadata": {
    "collapsed": false
   },
   "outputs": [
    {
     "data": {
      "text/plain": [
       "'Hello World!'"
      ]
     },
     "execution_count": 13,
     "metadata": {},
     "output_type": "execute_result"
    }
   ],
   "source": [
    "s = 'Hhello World!'\n",
    "regexp = re.compile('Hhello')\n",
    "regexp.sub(\"Hello\", s)"
   ]
  },
  {
   "cell_type": "markdown",
   "metadata": {},
   "source": [
    "### Example\n",
    "We have done some exercises in R. We will redo those exercise in Python.    \n",
    "Data we use are `mbox-short.txt` from the website of [Python for Informatics](http://www.pythonlearn.com/book.php)"
   ]
  },
  {
   "cell_type": "code",
   "execution_count": 14,
   "metadata": {
    "collapsed": false
   },
   "outputs": [
    {
     "name": "stdout",
     "output_type": "stream",
     "text": [
      "From stephen.marquard@uct.ac.za Sat Jan  5 09:14:16 2008\n",
      "Return-Path: <postmaster@collab.sakaiproject.org>\n",
      "Received: from murder (mail.umich.edu [141.211.14.90])\n",
      "by frankenstein.mail.umich.edu (Cyrus v2.3.8) with LMTPA;\n",
      "Sat, 05 Jan 2008 09:14:16 -0500\n"
     ]
    }
   ],
   "source": [
    "handle = open('../../Data/mbox-short.txt')\n",
    "i = 0\n",
    "for line in handle:\n",
    "    # We use strip to remove tab, newline, space\n",
    "    line = line.strip()\n",
    "    i += 1\n",
    "    if i <= 5:\n",
    "        print(line)"
   ]
  },
  {
   "cell_type": "markdown",
   "metadata": {},
   "source": [
    "### Email"
   ]
  },
  {
   "cell_type": "code",
   "execution_count": 15,
   "metadata": {
    "collapsed": false
   },
   "outputs": [
    {
     "data": {
      "text/plain": [
       "['louis@media.berkeley.edu',\n",
       " 'm03MGhDa005292@nakamura.uits.iupui.edu',\n",
       " 'horwitz@uct.ac.za',\n",
       " 'm04K1cO0007738@nakamura.uits.iupui.edu',\n",
       " 'marquard@uct.ac.za',\n",
       " 'm04JmdwO007705@nakamura.uits.iupui.edu',\n",
       " 'cwen@iupui.edu',\n",
       " 'm049W2i5006493@nakamura.uits.iupui.edu',\n",
       " 'm04Kiem3007881@nakamura.uits.iupui.edu',\n",
       " 'rjlowe@iupui.edu',\n",
       " 'm0495rWB006420@nakamura.uits.iupui.edu',\n",
       " 'm040NpCc005473@nakamura.uits.iupui.edu',\n",
       " 'source@collab.sakaiproject.org',\n",
       " 'postmaster@collab.sakaiproject.org',\n",
       " 'm04F21Jo007031@nakamura.uits.iupui.edu',\n",
       " 'm04B6lK3006677@nakamura.uits.iupui.edu',\n",
       " 'm04GB1Lb007221@nakamura.uits.iupui.edu',\n",
       " 'm04Fb6Ci007092@nakamura.uits.iupui.edu',\n",
       " 'zqian@umich.edu',\n",
       " 'm04E3psW006926@nakamura.uits.iupui.edu',\n",
       " 'm04L92hb007923@nakamura.uits.iupui.edu',\n",
       " 'm04G8d7w007184@nakamura.uits.iupui.edu',\n",
       " 'wagnermr@iupui.edu',\n",
       " 'antranig@caret.cam.ac.uk',\n",
       " 'josrodri@iupui.edu',\n",
       " 'm049lUxo006517@nakamura.uits.iupui.edu',\n",
       " 'm04N8v6O008125@nakamura.uits.iupui.edu',\n",
       " 'm05ECIaH010327@nakamura.uits.iupui.edu',\n",
       " 'm04GA5KP007209@nakamura.uits.iupui.edu',\n",
       " 'ramasammycook@gmail.com',\n",
       " 'm04GZQGZ007313@nakamura.uits.iupui.edu',\n",
       " 'ray@media.berkeley.edu',\n",
       " 'm04G9EuX007197@nakamura.uits.iupui.edu',\n",
       " 'm03LMFo4005148@nakamura.uits.iupui.edu',\n",
       " 'hu2@iupui.edu',\n",
       " 'gsilver@umich.edu',\n",
       " 'm03M5Ea7005273@nakamura.uits.iupui.edu',\n",
       " 'm04FFv42007050@nakamura.uits.iupui.edu',\n",
       " 'm04GX6eG007292@nakamura.uits.iupui.edu',\n",
       " 'm03LX3gG005191@nakamura.uits.iupui.edu',\n",
       " 'm04C0gfK006793@nakamura.uits.iupui.edu',\n",
       " 'm03LRUqH005177@nakamura.uits.iupui.edu']"
      ]
     },
     "execution_count": 15,
     "metadata": {},
     "output_type": "execute_result"
    }
   ],
   "source": [
    "handle = open('../../Data/mbox-short.txt')\n",
    "mbox = handle.read()\n",
    "# Change into set, it will remove the duplicate, and transform back into list\n",
    "list(set(re.findall(\"[a-zA-Z0-9]+@[a-zA-Z0-9\\\\.-]+\\\\.[a-zA-Z0-9]+\", mbox)))"
   ]
  },
  {
   "cell_type": "markdown",
   "metadata": {},
   "source": [
    "### Website"
   ]
  },
  {
   "cell_type": "code",
   "execution_count": 16,
   "metadata": {
    "collapsed": false
   },
   "outputs": [
    {
     "data": {
      "text/plain": [
       "['https://source.sakaiproject.org/svn/site-manage/trunk/',\n",
       " 'http://source.sakaiproject.org/viewsvn/?view=rev&rev=39769',\n",
       " 'http://source.sakaiproject.org/viewsvn/?view=rev&rev=39764',\n",
       " 'http://source.sakaiproject.org/viewsvn/?view=rev&rev=39765',\n",
       " 'http://source.sakaiproject.org/viewsvn/?view=rev&rev=39770',\n",
       " 'http://source.sakaiproject.org/viewsvn/?view=rev&rev=39758',\n",
       " 'http://source.sakaiproject.org/viewsvn/?view=rev&rev=39745',\n",
       " 'http://source.sakaiproject.org/viewsvn/?view=rev&rev=39754',\n",
       " 'http://bugs.sakaiproject.org/jira/browse/SAK-12592',\n",
       " 'http://source.sakaiproject.org/viewsvn/?view=rev&rev=39752',\n",
       " 'http://source.sakaiproject.org/viewsvn/?view=rev&rev=39757',\n",
       " 'http://source.sakaiproject.org/viewsvn/?view=rev&rev=39743',\n",
       " 'https://source.sakaiproject.org/svn/msgcntr/trunk',\n",
       " 'http://source.sakaiproject.org/viewsvn/?view=rev&rev=39751',\n",
       " 'https://collab.sakaiproject.org/portal',\n",
       " 'http://bugs.sakaiproject.org/jira/browse/SAK-12175',\n",
       " 'https://source.sakaiproject.org/svn/gradebook/trunk',\n",
       " 'http://source.sakaiproject.org/viewsvn/?view=rev&rev=39759',\n",
       " 'http://source.sakaiproject.org/viewsvn/?view=rev&rev=39744',\n",
       " 'http://source.sakaiproject.org/viewsvn/?view=rev&rev=39755',\n",
       " 'http://source.sakaiproject.org/viewsvn/?view=rev&rev=39772',\n",
       " 'http://source.sakaiproject.org/viewsvn/?view=rev&rev=39763',\n",
       " 'http://jira.sakaiproject.org/jira/browse/SAK-12484',\n",
       " 'http://source.sakaiproject.org/viewsvn/?view=rev&rev=39760',\n",
       " 'http://source.sakaiproject.org/viewsvn/?view=rev&rev=39753',\n",
       " 'https://source.sakaiproject.org/svn/podcasts/trunk',\n",
       " 'http://source.sakaiproject.org/viewsvn/?view=rev&rev=39766',\n",
       " 'http://jira.sakaiproject.org/jira/browse/SAK-12488',\n",
       " 'http://source.sakaiproject.org/viewsvn/?view=rev&rev=39762',\n",
       " 'http://source.sakaiproject.org/viewsvn/?view=rev&rev=39746',\n",
       " 'http://source.sakaiproject.org/viewsvn/?view=rev&rev=39771',\n",
       " 'http://source.sakaiproject.org/viewsvn/?view=rev&rev=39761',\n",
       " 'http://source.sakaiproject.org/viewsvn/?view=rev&rev=39742',\n",
       " 'https://source.sakaiproject.org/svn/polls/trunk',\n",
       " 'http://bugs.sakaiproject.org/jira/browse/SAK-11458',\n",
       " 'http://bugs.sakaiproject.org/jira/browse/SAK-12596',\n",
       " 'http://bugs.sakaiproject.org/jira/browse/SAK-12595',\n",
       " 'http://source.sakaiproject.org/viewsvn/?view=rev&rev=39756',\n",
       " 'http://source.sakaiproject.org/viewsvn/?view=rev&rev=39750',\n",
       " 'http://jira.sakaiproject.org/jira/browse/SAK-12504',\n",
       " 'http://source.sakaiproject.org/viewsvn/?view=rev&rev=39749']"
      ]
     },
     "execution_count": 16,
     "metadata": {},
     "output_type": "execute_result"
    }
   ],
   "source": [
    "handle = open('../../Data/mbox-short.txt')\n",
    "mbox = handle.read()\n",
    "# Change into set, it will remove the duplicate, and transform back into list\n",
    "list(set(re.findall(\"http://[-a-zA-Z0-9./-?&]+|https://[-a-zA-Z0-9./-?&]+\", mbox)))"
   ]
  }
 ],
 "metadata": {
  "kernelspec": {
   "display_name": "Python 3",
   "language": "python",
   "name": "python3"
  },
  "language_info": {
   "codemirror_mode": {
    "name": "ipython",
    "version": 3
   },
   "file_extension": ".py",
   "mimetype": "text/x-python",
   "name": "python",
   "nbconvert_exporter": "python",
   "pygments_lexer": "ipython3",
   "version": "3.4.3"
  }
 },
 "nbformat": 4,
 "nbformat_minor": 0
}
