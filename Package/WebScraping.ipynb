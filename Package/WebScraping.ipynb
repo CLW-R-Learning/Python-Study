{
 "cells": [
  {
   "cell_type": "markdown",
   "metadata": {},
   "source": [
    "# Web Scrap\n",
    "* HTML\n",
    "* XML\n",
    "* JSON"
   ]
  },
  {
   "cell_type": "markdown",
   "metadata": {},
   "source": [
    "## 1. HTML\n",
    "Package: ButterflySoup   \n",
    "[HTML from Python informatics](http://python-data.dr-chuck.net/comments_42.html)"
   ]
  },
  {
   "cell_type": "code",
   "execution_count": null,
   "metadata": {
    "collapsed": false
   },
   "outputs": [],
   "source": [
    "import urllib.request\n",
    "from bs4 import BeautifulSoup\n",
    "\n",
    "# Example from Python Informatics\n",
    "url = 'http://python-data.dr-chuck.net/comments_42.html'\n",
    "req = urllib.request.Request(url, headers={'User-Agent': 'Mozilla/5.0'})\n",
    "\n",
    "# Get HTML\n",
    "html = urllib.request.urlopen(req).read()\n",
    "soup = BeautifulSoup(html)\n",
    "\n",
    "tags1 = soup('td')\n",
    "tags2 = soup('span')\n",
    "for i in range(len(tags2)):\n",
    "    name = tags1[2*i + 2].contents\n",
    "    comment = tags2[i].contents\n",
    "    print(name, comment)"
   ]
  },
  {
   "cell_type": "markdown",
   "metadata": {},
   "source": [
    "### Example: Get the link of the first of the three debates from each of the years 1996, 2000, 2004, 2008, 2012 from the website [Commission on Presidential Debates](http://www.debates.org/index.php?page=debate-transcripts)."
   ]
  },
  {
   "cell_type": "code",
   "execution_count": null,
   "metadata": {
    "collapsed": false
   },
   "outputs": [],
   "source": [
    "import urllib.request\n",
    "from bs4 import BeautifulSoup\n",
    "import re\n",
    "\n",
    "# Preseidential Debate Website\n",
    "url = 'http://www.debates.org/index.php?page=debate-transcripts'\n",
    "req = urllib.request.Request(url, headers={'User-Agent': 'Mozilla/5.0'})\n",
    "\n",
    "# Get HTML\n",
    "html = urllib.request.urlopen(req).read()\n",
    "\n",
    "# ButterflySoup\n",
    "soup = BeautifulSoup(html)\n",
    "\n",
    "# Get a tag\n",
    "tags = soup('a')\n",
    "# Finall all\n",
    "link = list()\n",
    "for tag in tags:\n",
    "    str_tag = tag.getText()\n",
    "    if re.search(\"First\", str_tag):\n",
    "        if re.search('1996|2000|2004|2008|2012', str_tag):\n",
    "            link.append(tag.get('href'))\n",
    "    \n",
    "# Ouput\n",
    "link"
   ]
  },
  {
   "cell_type": "markdown",
   "metadata": {},
   "source": [
    "## 2. XML\n",
    "Package: xml"
   ]
  },
  {
   "cell_type": "code",
   "execution_count": null,
   "metadata": {
    "collapsed": false
   },
   "outputs": [],
   "source": [
    "data = '''\n",
    "<person>\n",
    "  <name>Jason</name>\n",
    "  <phone type=\"intl\">\n",
    "     0123456789\n",
    "   </phone>\n",
    "   <email hide=\"yes\"/>\n",
    "</person>'''\n",
    "\n",
    "# This is the structure of XML\n",
    "print(data)"
   ]
  },
  {
   "cell_type": "code",
   "execution_count": null,
   "metadata": {
    "collapsed": false
   },
   "outputs": [],
   "source": [
    "# XML\n",
    "import xml.etree.ElementTree as ET\n",
    "\n",
    "# Formatting the data into tree structure\n",
    "tree = ET.fromstring(data)\n",
    "print('Name:', tree.find('name').text,\n",
    "      \"\\nPhone:\", tree.find('phone').text.strip(),\n",
    "      \"\\nEmail:\", tree.find('email').text)"
   ]
  },
  {
   "cell_type": "code",
   "execution_count": null,
   "metadata": {
    "collapsed": false
   },
   "outputs": [],
   "source": [
    "# Get the attribute\n",
    "print('Attribute:',tree.find('email').get('hide'))"
   ]
  },
  {
   "cell_type": "markdown",
   "metadata": {},
   "source": [
    "### Example: Food Menu from [W3Schools](http://www.w3schools.com/)\n",
    "[Food Menu](http://www.w3schools.com/xml/simple.xml)"
   ]
  },
  {
   "cell_type": "code",
   "execution_count": null,
   "metadata": {
    "collapsed": false
   },
   "outputs": [],
   "source": [
    "import urllib.request\n",
    "import xml.etree.ElementTree as ET\n",
    "\n",
    "# Food Menu\n",
    "url = 'http://www.w3schools.com/xml/simple.xml'\n",
    "req = urllib.request.Request(url, headers={'User-Agent': 'Mozilla/5.0'})\n",
    "data = urllib.request.urlopen(req).read()\n",
    "\n",
    "tree = ET.fromstring(data)\n",
    "food = tree.findall('food')\n",
    "\n",
    "for item in food:\n",
    "    print('Name:', item.find('name').text,\n",
    "          '\\nPrice:', item.find('price').text,\n",
    "          '\\nCalories:', item.find('calories').text,\n",
    "          '\\nDescription:', item.find('description').text, \"\\n\")\n"
   ]
  },
  {
   "cell_type": "markdown",
   "metadata": {},
   "source": [
    "## 3. JSON\n",
    "Package: json    \n",
    "Note that its format is exactly the dictionary in Python."
   ]
  },
  {
   "cell_type": "code",
   "execution_count": null,
   "metadata": {
    "collapsed": false
   },
   "outputs": [],
   "source": [
    "data = '''\n",
    "{\n",
    "  \"name\" : \"Jason\",\n",
    "  \"phone\" : {\n",
    "    \"type\" : \"intl\",\n",
    "    \"number\" : \"0123456789\"\n",
    "   },\n",
    "   \"email\" : {\n",
    "     \"hide\" : \"yes\"\n",
    "   }\n",
    "}'''\n",
    "    \n",
    "print(data)"
   ]
  },
  {
   "cell_type": "code",
   "execution_count": null,
   "metadata": {
    "collapsed": false
   },
   "outputs": [],
   "source": [
    "import json\n",
    "\n",
    "# Load json\n",
    "info = json.loads(data)\n",
    "# It is dictionary, so we can use the way we retrieve information from dictionary!\n",
    "info"
   ]
  },
  {
   "cell_type": "code",
   "execution_count": null,
   "metadata": {
    "collapsed": false
   },
   "outputs": [],
   "source": [
    "print('Name:', info['name'],\n",
    "      \"\\nPhone:\", info['phone']['number'])"
   ]
  }
 ],
 "metadata": {
  "kernelspec": {
   "display_name": "Python 3",
   "language": "python",
   "name": "python3"
  },
  "language_info": {
   "codemirror_mode": {
    "name": "ipython",
    "version": 3
   },
   "file_extension": ".py",
   "mimetype": "text/x-python",
   "name": "python",
   "nbconvert_exporter": "python",
   "pygments_lexer": "ipython3",
   "version": "3.4.3"
  }
 },
 "nbformat": 4,
 "nbformat_minor": 0
}
